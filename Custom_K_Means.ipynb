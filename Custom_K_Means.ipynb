{
  "nbformat": 4,
  "nbformat_minor": 0,
  "metadata": {
    "colab": {
      "name": "Custom K-Means.ipynb",
      "provenance": [],
      "authorship_tag": "ABX9TyOQ8Lz70gvl7wNi/O/FTlnL",
      "include_colab_link": true
    },
    "kernelspec": {
      "name": "python3",
      "display_name": "Python 3"
    },
    "language_info": {
      "name": "python"
    }
  },
  "cells": [
    {
      "cell_type": "markdown",
      "metadata": {
        "id": "view-in-github",
        "colab_type": "text"
      },
      "source": [
        "<a href=\"https://colab.research.google.com/github/Pushpit07/K-Means-Clustering-and-Recommendations-System/blob/main/Custom_K_Means.ipynb\" target=\"_parent\"><img src=\"https://colab.research.google.com/assets/colab-badge.svg\" alt=\"Open In Colab\"/></a>"
      ]
    },
    {
      "cell_type": "code",
      "metadata": {
        "id": "BIu2nPBjddKX"
      },
      "source": [
        "from sklearn.datasets import make_blobs"
      ],
      "execution_count": 7,
      "outputs": []
    },
    {
      "cell_type": "code",
      "metadata": {
        "id": "OdRjR4ODdtku"
      },
      "source": [
        "import numpy as np\n",
        "import pandas as pd\n",
        "import matplotlib.pyplot as plt\n",
        "import seaborn as sns"
      ],
      "execution_count": 15,
      "outputs": []
    },
    {
      "cell_type": "code",
      "metadata": {
        "id": "fBSdQHELdZIH"
      },
      "source": [
        "X, y = make_blobs(centers=3, random_state=42)"
      ],
      "execution_count": 16,
      "outputs": []
    },
    {
      "cell_type": "code",
      "metadata": {
        "id": "WXXIQtGGa87r"
      },
      "source": [
        "import random"
      ],
      "execution_count": 17,
      "outputs": []
    },
    {
      "cell_type": "code",
      "metadata": {
        "id": "YZ5hejq2Z-8Q"
      },
      "source": [
        "class Cluster:\n",
        "  def __init__(self, center):\n",
        "    self.center = center\n",
        "    self.points = []\n",
        "    \n",
        "  def distance(self, point):\n",
        "    return np.sqrt(np.sum((point - self.center) ** 2))\n",
        "\n",
        "class CustomKMeans:\n",
        "  def __init__(self, n_clusters=3, max_iters=20):\n",
        "        self.n_clusters = n_clusters\n",
        "        self.max_iters = max_iters\n",
        "  \n",
        "  def fit(self, X):\n",
        "    clusters = []\n",
        "    for i in range(self.n_clusters):\n",
        "        cluster = Cluster(center=random.choice(X))\n",
        "        clusters.append(cluster)\n",
        "\n",
        "    for i in range(self.max_iters):\n",
        "            labels = []\n",
        "            # going for each point\n",
        "            for point in X:\n",
        "\n",
        "                # collecting disctances form every cluster\n",
        "                distances = []\n",
        "                for cluster in clusters:\n",
        "                    distances.append(cluster.distance(point))\n",
        "\n",
        "                # finding closest cluster\n",
        "                closest_idx = np.argmin(distances)\n",
        "                closest_cluster = clusters[closest_idx]\n",
        "                closest_cluster.points.append(point)\n",
        "                labels.append(closest_idx)\n",
        "\n",
        "            for cluster in clusters:\n",
        "                cluster.center = np.mean(cluster.points, axis=0)\n",
        "            \n",
        "    self.labels_ = labels\n",
        "    self.cluster_centers_ = [cluster.center for cluster in clusters]"
      ],
      "execution_count": 26,
      "outputs": []
    },
    {
      "cell_type": "code",
      "metadata": {
        "id": "HoJw15OzbiP6"
      },
      "source": [
        "model = CustomKMeans(n_clusters=4)\n",
        "\n",
        "model.fit(X)"
      ],
      "execution_count": 27,
      "outputs": []
    },
    {
      "cell_type": "code",
      "metadata": {
        "colab": {
          "base_uri": "https://localhost:8080/",
          "height": 319
        },
        "id": "jx29i5_gdjvx",
        "outputId": "df0a781e-7823-40b8-80c3-1c2bb6aaa3ee"
      },
      "source": [
        "sns.scatterplot(X[:, 0], X[:, 1], hue=model.labels_)\n",
        "\n",
        "for center in model.cluster_centers_:\n",
        "  plt.scatter(center[0], center[1], s=100)"
      ],
      "execution_count": 28,
      "outputs": [
        {
          "output_type": "stream",
          "text": [
            "/usr/local/lib/python3.7/dist-packages/seaborn/_decorators.py:43: FutureWarning: Pass the following variables as keyword args: x, y. From version 0.12, the only valid positional argument will be `data`, and passing other arguments without an explicit keyword will result in an error or misinterpretation.\n",
            "  FutureWarning\n"
          ],
          "name": "stderr"
        },
        {
          "output_type": "display_data",
          "data": {
            "image/png": "[encoded data removed]",
            "text/plain": [
              "<Figure size 432x288 with 1 Axes>"
            ]
          },
          "metadata": {
            "tags": [],
            "needs_background": "light"
          }
        }
      ]
    },
    {
      "cell_type": "code",
      "metadata": {
        "id": "80SPbbcAdz7e"
      },
      "source": [
        ""
      ],
      "execution_count": null,
      "outputs": []
    }
  ]
}